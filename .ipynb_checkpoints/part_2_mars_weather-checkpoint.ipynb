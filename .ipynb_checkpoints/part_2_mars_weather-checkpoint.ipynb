{
 "cells": [
  {
   "cell_type": "code",
   "execution_count": null,
   "id": "b8eeaa86",
   "metadata": {},
   "outputs": [],
   "source": [
    "# Import relevant libraries\n",
    "from splinter import Browser\n",
    "from bs4 import BeautifulSoup as soup\n",
    "import matplotlib.pyplot as plt\n",
    "import pandas as pd"
   ]
  },
  {
   "cell_type": "code",
   "execution_count": null,
   "id": "185a276d",
   "metadata": {},
   "outputs": [],
   "source": [
    "from splinter import Browser\n",
    "executable_path = {'executable_path': 'C:\\\\Windows\\\\System32\\\\chromedriver.exe'}\n",
    "browser = Browser('chrome', **executable_path)"
   ]
  },
  {
   "cell_type": "code",
   "execution_count": null,
   "id": "5078935b",
   "metadata": {},
   "outputs": [],
   "source": [
    "from splinter import Browser\n",
    "executable_path = {'executable_path': r'C:\\Windows\\System32\\chromedriver.exe'}\n",
    "browser = Browser('chrome', **executable_path)"
   ]
  },
  {
   "cell_type": "code",
   "execution_count": null,
   "id": "c71d6826",
   "metadata": {},
   "outputs": [],
   "source": [
    "browser = Browser('chrome')"
   ]
  },
  {
   "cell_type": "code",
   "execution_count": null,
   "id": "461bebe6",
   "metadata": {},
   "outputs": [],
   "source": [
    "# Visit the website\n",
    "# https://static.bc-edx.com/data/web/mars_facts/temperature.html\n",
    "url = \"https://static.bc-edx.com/data/web/mars_facts/temperature.html\"\n",
    "browser.visit(url)"
   ]
  },
  {
   "cell_type": "code",
   "execution_count": null,
   "id": "5a629551",
   "metadata": {},
   "outputs": [],
   "source": [
    "# Create a Beautiful Soup Object\n",
    "# first scrape teh html from the website\n",
    "html = browser.html\n",
    "\n",
    "# create a BeautifulSoup Obj to parse the html data\n",
    "mars_soup = soup(html, 'html.parser')\n"
   ]
  },
  {
   "cell_type": "code",
   "execution_count": null,
   "id": "64ca29f5",
   "metadata": {},
   "outputs": [],
   "source": [
    "# Extract all rows of data (this is assumed to mean table row data)\n",
    "mars_data_rows = mars_soup.find_all('tr', class_='data-row')"
   ]
  },
  {
   "cell_type": "code",
   "execution_count": null,
   "id": "31260d34",
   "metadata": {},
   "outputs": [],
   "source": [
    "# Create an empty list\n",
    "mars_table_data = []\n",
    "# Loop through the scraped data to create a list of rows\n",
    "for row in mars_data_rows:\n",
    "    # extract list of tds from table row\n",
    "    row_data = row.select('td')\n",
    "\n",
    "    # create a temporary row data list\n",
    "    temp_row_data = []\n",
    "\n",
    "    # loop through row_data to and append to temp_row_data\n",
    "    for td in row_data:\n",
    "        # append data to temp list\n",
    "        temp_row_data.append(td.text)\n",
    "    \n",
    "    # append temp_row_data list to mars_table_data\n",
    "    mars_table_data.append(temp_row_data)\n"
   ]
  },
  {
   "cell_type": "code",
   "execution_count": null,
   "id": "781087e8",
   "metadata": {},
   "outputs": [],
   "source": [
    "# The HTML table was extracted into a Pandas DataFrame. Either Pandas or Splinter and Beautiful Soup were used to scrape the data. The columns have the correct headings and data types. (15 points)\n",
    "# Create a Pandas DataFrame by using the list of rows and a list of the column names\n",
    "mars_df = pd.DataFrame(mars_table_data, columns=['id', 'terrestrial_date', 'sol', 'ls', 'month', 'min_temp', 'pressure'])"
   ]
  },
  {
   "cell_type": "code",
   "execution_count": null,
   "id": "c05f4e9b",
   "metadata": {},
   "outputs": [],
   "source": [
    "# Confirm DataFrame was created successfully\n",
    "mars_df.head()"
   ]
  },
  {
   "cell_type": "code",
   "execution_count": null,
   "id": "92d54337",
   "metadata": {},
   "outputs": [],
   "source": [
    "# Examine data type of each column\n",
    "mars_df.dtypes"
   ]
  },
  {
   "cell_type": "code",
   "execution_count": null,
   "id": "4f8c6d94",
   "metadata": {},
   "outputs": [],
   "source": [
    "# Change data types for data analysis\n",
    "mars_df = mars_df.astype({\n",
    "    \"id\": object,\n",
    "    \"terrestrial_date\": \"datetime64[ns]\",\n",
    "    \"sol\": int,\n",
    "    \"ls\": int,\n",
    "    \"month\": int,\n",
    "    \"min_temp\": float,\n",
    "    \"pressure\": float\n",
    "})"
   ]
  },
  {
   "cell_type": "code",
   "execution_count": null,
   "id": "cae3fb19",
   "metadata": {},
   "outputs": [],
   "source": [
    "# Confirm type changes were successful by examining data types again\n",
    "mars_df.dtypes"
   ]
  },
  {
   "cell_type": "code",
   "execution_count": null,
   "id": "d78790ef",
   "metadata": {},
   "outputs": [],
   "source": [
    "# 1. How many months exist on Mars? (5 points)\n",
    "# make a new series of the month\n",
    "# per EXAMPLE RESULT, count values and sort by index\n",
    "mars_df['month'].value_counts().sort_index()"
   ]
  },
  {
   "cell_type": "code",
   "execution_count": null,
   "id": "fd75dfe9",
   "metadata": {},
   "outputs": [],
   "source": [
    "# 2. How many Martian days' worth of data are there? (5 points)\n",
    "# return nunique from the sol column\n",
    "mars_df['sol'].nunique()"
   ]
  },
  {
   "cell_type": "code",
   "execution_count": null,
   "id": "86c3ff3d",
   "metadata": {},
   "outputs": [],
   "source": [
    "# 3. Which month, on average, has the lowest temperature? The highest? (10 points)\n",
    "# groupby month and return avg of 'min_temp' using .agg('mean')\n",
    "mars_mos_avg_low_temp = mars_df.groupby('month').min_temp.agg('mean')\n",
    "mars_mos_avg_low_temp"
   ]
  },
  {
   "cell_type": "code",
   "execution_count": null,
   "id": "520974a6",
   "metadata": {},
   "outputs": [],
   "source": [
    "# Plot the average temperature by month\n",
    "mars_mos_avg_low_temp.plot.bar()\n",
    "plt.xlabel('month')\n",
    "plt.ylabel('Temperature in Celsius')\n",
    "plt.show()"
   ]
  },
  {
   "cell_type": "code",
   "execution_count": null,
   "id": "63b46af6",
   "metadata": {},
   "outputs": [],
   "source": [
    "# Identify the coldest and hottest months in Curiosity's location\n",
    "# group data and sort by min_temp\n",
    "mars_mos_min_temp = mars_mos_avg_low_temp.sort_values()\n",
    "mars_mos_min_temp\n",
    "\n",
    "# plot sorted values\n",
    "mars_mos_min_temp.plot.bar()\n",
    "plt.xlabel('month')\n",
    "plt.ylabel('Temperature in Celsius')\n",
    "plt.show()"
   ]
  },
  {
   "cell_type": "code",
   "execution_count": null,
   "id": "f7c5ce97",
   "metadata": {},
   "outputs": [],
   "source": [
    "# 4. Which month, on average, has the lowest atmospheric pressure? The highest? (10 points)\n",
    "mars_mos_avg_pressure = mars_df.groupby('month').pressure.agg('mean')\n",
    "mars_mos_avg_pressure"
   ]
  },
  {
   "cell_type": "code",
   "execution_count": null,
   "id": "4ea4fbf0",
   "metadata": {},
   "outputs": [],
   "source": [
    "# Plot the average pressure by month\n",
    "mars_mos_avg_pressure.plot.bar()\n",
    "plt.xlabel('month')\n",
    "plt.ylabel('Atmospheric Pressure')\n",
    "plt.show()"
   ]
  },
  {
   "cell_type": "code",
   "execution_count": null,
   "id": "162cbfe5",
   "metadata": {},
   "outputs": [],
   "source": [
    "# NOTE: example table in starter code shows the plot of months sorted by Avg Pressure, like so:\n",
    "mars_mos_pressure = mars_mos_avg_pressure.sort_values()\n",
    "\n",
    "# plot sorted values\n",
    "mars_mos_pressure.plot.bar()\n",
    "plt.xlabel('month')\n",
    "plt.ylabel('Average Pressure')\n",
    "plt.show()"
   ]
  },
  {
   "cell_type": "code",
   "execution_count": null,
   "id": "af8f03e5",
   "metadata": {},
   "outputs": [],
   "source": [
    "# 5. How many terrestrial days exist in a Martian year? A visual estimate within 25% was made. (10 points)\n",
    "\n",
    "# create a new column which calculates the number of earth days from first record to current record\n",
    "# find first recorded earth date\n",
    "first_terra_day = mars_df['terrestrial_date'].agg('min')\n",
    "\n",
    "# create a new df with min temps from each record and the calculated # of earth days\n",
    "terra_days_min_temps_df = pd.DataFrame({\n",
    "    \"min_temp\": mars_df['min_temp'],\n",
    "    \"terra_days\": mars_df['terrestrial_date'] - first_terra_day\n",
    "})\n",
    "\n",
    "# plot the int value of earth days versus the min_temps for each sol record\n",
    "plt.plot(terra_days_min_temps_df[\"terra_days\"].dt.days, terra_days_min_temps_df[\"min_temp\"])\n",
    "plt.xlabel(\"Number of terrestrial days\")\n",
    "plt.ylabel(\"Minimum temperature\")\n",
    "plt.show()\n",
    "\n",
    "# use # of days between peaks to calculate approxiamte # of earth days in a martian year"
   ]
  },
  {
   "cell_type": "code",
   "execution_count": null,
   "id": "1337ca74",
   "metadata": {},
   "outputs": [],
   "source": [
    "# The DataFrame was exported into a CSV file. (5 points)\n",
    "mars_df.to_csv('mars_weather_data.csv', header=True, index=False, date_format='%Y-%m-%d')"
   ]
  },
  {
   "cell_type": "code",
   "execution_count": null,
   "id": "2c712832",
   "metadata": {},
   "outputs": [],
   "source": [
    "browser.quit()"
   ]
  }
 ],
 "metadata": {
  "kernelspec": {
   "display_name": "Python 3 (ipykernel)",
   "language": "python",
   "name": "python3"
  },
  "language_info": {
   "codemirror_mode": {
    "name": "ipython",
    "version": 3
   },
   "file_extension": ".py",
   "mimetype": "text/x-python",
   "name": "python",
   "nbconvert_exporter": "python",
   "pygments_lexer": "ipython3",
   "version": "3.7.16"
  }
 },
 "nbformat": 4,
 "nbformat_minor": 5
}
