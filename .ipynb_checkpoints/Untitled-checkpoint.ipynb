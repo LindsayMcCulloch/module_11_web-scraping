{
 "cells": [
  {
   "cell_type": "code",
   "execution_count": null,
   "id": "2d29684c",
   "metadata": {},
   "outputs": [],
   "source": [
    "# Import Splinter and BeautifulSoup\n",
    "from splinter import Browser\n",
    "from bs4 import BeautifulSoup as soup"
   ]
  },
  {
   "cell_type": "code",
   "execution_count": null,
   "id": "ed1add9d",
   "metadata": {},
   "outputs": [],
   "source": [
    "browser = Browser('chrome')"
   ]
  },
  {
   "cell_type": "code",
   "execution_count": null,
   "id": "81dd09c4",
   "metadata": {},
   "outputs": [],
   "source": [
    "# Visit the Mars news site\n",
    "url = 'https://static.bc-edx.com/data/web/mars_news/index.html'\n",
    "browser.visit(url)"
   ]
  },
  {
   "cell_type": "code",
   "execution_count": null,
   "id": "3412bff7",
   "metadata": {},
   "outputs": [],
   "source": [
    "# Create a Beautiful Soup object\n",
    "# first Scrape the website\n",
    "html = browser.html\n",
    "\n",
    "# now create BeuatifulSoup object using the scraped html data\n",
    "mars_soup = soup(html, 'html.parser')"
   ]
  },
  {
   "cell_type": "code",
   "execution_count": null,
   "id": "c04aeb2d",
   "metadata": {},
   "outputs": [],
   "source": [
    "# Extract all the text elements\n",
    "all_text = mars_soup.select('div.list_text')\n",
    "# print results to verify extraction\n",
    "all_text"
   ]
  },
  {
   "cell_type": "code",
   "execution_count": null,
   "id": "f2d20789",
   "metadata": {},
   "outputs": [],
   "source": [
    "# Create an empty list to store the dictionaries\n",
    "title_preview_list = []"
   ]
  },
  {
   "cell_type": "code",
   "execution_count": null,
   "id": "d38408d8",
   "metadata": {},
   "outputs": [],
   "source": [
    "# Loop through the text elements\n",
    "for article in all_text:\n",
    "    # Extract the title and preview text from the elements\n",
    "    title = article.select_one('div.content_title').text\n",
    "    preview = article.select_one('div.article_teaser_body').text\n",
    "\n",
    "    # Store each title and preview pair in a dictionary\n",
    "    temp_dict = {\n",
    "        \"title\": title,\n",
    "        \"preview\": preview\n",
    "    }\n",
    "    # Add the dictionary to the list\n",
    "    title_preview_list.append(temp_dict)"
   ]
  },
  {
   "cell_type": "code",
   "execution_count": null,
   "id": "6a04a173",
   "metadata": {},
   "outputs": [],
   "source": [
    "# Print the list to confirm success\n",
    "title_preview_list"
   ]
  },
  {
   "cell_type": "code",
   "execution_count": null,
   "id": "ff0d9a6d",
   "metadata": {},
   "outputs": [],
   "source": [
    "browser.quit()"
   ]
  }
 ],
 "metadata": {
  "kernelspec": {
   "display_name": "Python 3 (ipykernel)",
   "language": "python",
   "name": "python3"
  },
  "language_info": {
   "codemirror_mode": {
    "name": "ipython",
    "version": 3
   },
   "file_extension": ".py",
   "mimetype": "text/x-python",
   "name": "python",
   "nbconvert_exporter": "python",
   "pygments_lexer": "ipython3",
   "version": "3.7.16"
  }
 },
 "nbformat": 4,
 "nbformat_minor": 5
}
